{
 "cells": [
  {
   "cell_type": "markdown",
   "metadata": {},
   "source": [
    "# Estimativa do Valor de Aluguel na cidade de Santos/SP"
   ]
  },
  {
   "cell_type": "markdown",
   "metadata": {},
   "source": [
    "## Fase 1 - Definição do problema a ser resolvido\n",
    "\n",
    "Como objetivo do projeto, queremos criar um modelo de machine learning em que será calculado um valor estimado do aluguel do imóvel baseado nas características dele, como por exemplo: área (em m²), número de quartos e banheiros, e o bairro em que está localizado."
   ]
  },
  {
   "cell_type": "markdown",
   "metadata": {},
   "source": [
    "## Fase 2 - Preparação e exploração dos dados\n",
    "\n",
    "### Coleta dos dados\n",
    "\n",
    "Para coletar os dados, foi desenvolvido um webscrapper (webscrapper.py) que coleta os imóveis disponíveis para alugar na cidade de Santos, que foram anunciados no site Viva Real.\n",
    "\n",
    "Após a coleta dos imóveis, foi desenvolvido um script em que converte o endereço dos imóveis em CEP (get_cep.py) e outro script que converte o CEP em coordenadas geográficas (get_geo.py).\n",
    "\n",
    "O resultado dessas coletas são 2 arquivos de formato .csv:\n",
    "\n",
    "- santos_rent.csv = arquivo contendo os imóveis coletados\n",
    "- santos_geo.csv = arquivo contendo as coordenadas geográficas dos endereços de Santos"
   ]
  },
  {
   "cell_type": "code",
   "execution_count": 1,
   "metadata": {},
   "outputs": [
    {
     "name": "stderr",
     "output_type": "stream",
     "text": [
      "C:\\Users\\DELL\\Anaconda3\\lib\\site-packages\\statsmodels\\tools\\_testing.py:19: FutureWarning: pandas.util.testing is deprecated. Use the functions in the public API at pandas.testing instead.\n",
      "  import pandas.util.testing as tm\n"
     ]
    }
   ],
   "source": [
    "# Importando bibliotecas\n",
    "import pandas as pd\n",
    "import numpy as np\n",
    "import seaborn as sns\n",
    "import matplotlib.pyplot as plt\n",
    "from scipy import stats\n",
    "from scipy.stats import skew, norm"
   ]
  },
  {
   "cell_type": "code",
   "execution_count": 2,
   "metadata": {},
   "outputs": [],
   "source": [
    "# Carregando datasets\n",
    "arquivo = \"santos_rent.csv\"\n",
    "santos = pd.read_csv(arquivo)\n",
    "arquivo2 = \"santos_geo.csv\"\n",
    "end = pd.read_csv(arquivo2)"
   ]
  },
  {
   "cell_type": "markdown",
   "metadata": {},
   "source": [
    "### Preparação e transformação dos dados"
   ]
  },
  {
   "cell_type": "code",
   "execution_count": 3,
   "metadata": {},
   "outputs": [
    {
     "data": {
      "text/html": [
       "<div>\n",
       "<style scoped>\n",
       "    .dataframe tbody tr th:only-of-type {\n",
       "        vertical-align: middle;\n",
       "    }\n",
       "\n",
       "    .dataframe tbody tr th {\n",
       "        vertical-align: top;\n",
       "    }\n",
       "\n",
       "    .dataframe thead th {\n",
       "        text-align: right;\n",
       "    }\n",
       "</style>\n",
       "<table border=\"1\" class=\"dataframe\">\n",
       "  <thead>\n",
       "    <tr style=\"text-align: right;\">\n",
       "      <th></th>\n",
       "      <th>rent</th>\n",
       "      <th>endereco</th>\n",
       "      <th>rooms</th>\n",
       "      <th>bathroom</th>\n",
       "      <th>parking</th>\n",
       "      <th>area</th>\n",
       "      <th>CEP</th>\n",
       "      <th>Bairro</th>\n",
       "      <th>lat</th>\n",
       "      <th>long</th>\n",
       "    </tr>\n",
       "  </thead>\n",
       "  <tbody>\n",
       "    <tr>\n",
       "      <th>0</th>\n",
       "      <td>1450</td>\n",
       "      <td>Rua Carlos Afonseca</td>\n",
       "      <td>1.0</td>\n",
       "      <td>1.0</td>\n",
       "      <td>1.0</td>\n",
       "      <td>55</td>\n",
       "      <td>11055240</td>\n",
       "      <td>Gonzaga</td>\n",
       "      <td>-23.968787</td>\n",
       "      <td>-46.331394</td>\n",
       "    </tr>\n",
       "    <tr>\n",
       "      <th>1</th>\n",
       "      <td>1450</td>\n",
       "      <td>Rua Carlos Afonseca</td>\n",
       "      <td>1.0</td>\n",
       "      <td>1.0</td>\n",
       "      <td>1.0</td>\n",
       "      <td>55</td>\n",
       "      <td>11055240</td>\n",
       "      <td>Gonzaga</td>\n",
       "      <td>-23.968787</td>\n",
       "      <td>-46.331394</td>\n",
       "    </tr>\n",
       "    <tr>\n",
       "      <th>2</th>\n",
       "      <td>1450</td>\n",
       "      <td>Rua Carlos Afonseca</td>\n",
       "      <td>1.0</td>\n",
       "      <td>1.0</td>\n",
       "      <td>1.0</td>\n",
       "      <td>55</td>\n",
       "      <td>11055240</td>\n",
       "      <td>Gonzaga</td>\n",
       "      <td>-23.968787</td>\n",
       "      <td>-46.331394</td>\n",
       "    </tr>\n",
       "    <tr>\n",
       "      <th>3</th>\n",
       "      <td>8500</td>\n",
       "      <td>Avenida Doutor Epitácio Pessoa</td>\n",
       "      <td>3.0</td>\n",
       "      <td>2.0</td>\n",
       "      <td>3.0</td>\n",
       "      <td>158</td>\n",
       "      <td>11045301</td>\n",
       "      <td>Boqueirão</td>\n",
       "      <td>-23.964803</td>\n",
       "      <td>-46.323585</td>\n",
       "    </tr>\n",
       "    <tr>\n",
       "      <th>4</th>\n",
       "      <td>8500</td>\n",
       "      <td>Avenida Doutor Epitácio Pessoa</td>\n",
       "      <td>3.0</td>\n",
       "      <td>2.0</td>\n",
       "      <td>3.0</td>\n",
       "      <td>158</td>\n",
       "      <td>11045301</td>\n",
       "      <td>Boqueirão</td>\n",
       "      <td>-23.964803</td>\n",
       "      <td>-46.323585</td>\n",
       "    </tr>\n",
       "    <tr>\n",
       "      <th>...</th>\n",
       "      <td>...</td>\n",
       "      <td>...</td>\n",
       "      <td>...</td>\n",
       "      <td>...</td>\n",
       "      <td>...</td>\n",
       "      <td>...</td>\n",
       "      <td>...</td>\n",
       "      <td>...</td>\n",
       "      <td>...</td>\n",
       "      <td>...</td>\n",
       "    </tr>\n",
       "    <tr>\n",
       "      <th>8733</th>\n",
       "      <td>9000</td>\n",
       "      <td>Rua Colômbia</td>\n",
       "      <td>4.0</td>\n",
       "      <td>6.0</td>\n",
       "      <td>4.0</td>\n",
       "      <td>237</td>\n",
       "      <td>11045320</td>\n",
       "      <td>Boqueirão</td>\n",
       "      <td>-23.970110</td>\n",
       "      <td>-46.321890</td>\n",
       "    </tr>\n",
       "    <tr>\n",
       "      <th>8734</th>\n",
       "      <td>1838</td>\n",
       "      <td>Rua Bolívia</td>\n",
       "      <td>3.0</td>\n",
       "      <td>1.0</td>\n",
       "      <td>3.0</td>\n",
       "      <td>65</td>\n",
       "      <td>11035210</td>\n",
       "      <td>Aparecida</td>\n",
       "      <td>-23.976088</td>\n",
       "      <td>-46.303332</td>\n",
       "    </tr>\n",
       "    <tr>\n",
       "      <th>8735</th>\n",
       "      <td>1600</td>\n",
       "      <td>Rua Pereira Barreto</td>\n",
       "      <td>1.0</td>\n",
       "      <td>1.0</td>\n",
       "      <td>1.0</td>\n",
       "      <td>48</td>\n",
       "      <td>11065110</td>\n",
       "      <td>Gonzaga</td>\n",
       "      <td>-23.966544</td>\n",
       "      <td>-46.335180</td>\n",
       "    </tr>\n",
       "    <tr>\n",
       "      <th>8736</th>\n",
       "      <td>1500</td>\n",
       "      <td>Rua Prefeito Antenor Bué</td>\n",
       "      <td>3.0</td>\n",
       "      <td>2.0</td>\n",
       "      <td>3.0</td>\n",
       "      <td>92</td>\n",
       "      <td>11040020</td>\n",
       "      <td>Embaré</td>\n",
       "      <td>-23.975130</td>\n",
       "      <td>-46.310414</td>\n",
       "    </tr>\n",
       "    <tr>\n",
       "      <th>8737</th>\n",
       "      <td>3800</td>\n",
       "      <td>Rua Doutor Guedes Coelho</td>\n",
       "      <td>3.0</td>\n",
       "      <td>4.0</td>\n",
       "      <td>3.0</td>\n",
       "      <td>127</td>\n",
       "      <td>11050231</td>\n",
       "      <td>Encruzilhada</td>\n",
       "      <td>-23.953620</td>\n",
       "      <td>-46.327375</td>\n",
       "    </tr>\n",
       "  </tbody>\n",
       "</table>\n",
       "<p>8738 rows × 10 columns</p>\n",
       "</div>"
      ],
      "text/plain": [
       "      rent                                    endereco  rooms  bathroom  \\\n",
       "0     1450                       Rua Carlos Afonseca      1.0       1.0   \n",
       "1     1450                       Rua Carlos Afonseca      1.0       1.0   \n",
       "2     1450                       Rua Carlos Afonseca      1.0       1.0   \n",
       "3     8500             Avenida Doutor Epitácio Pessoa     3.0       2.0   \n",
       "4     8500             Avenida Doutor Epitácio Pessoa     3.0       2.0   \n",
       "...    ...                                         ...    ...       ...   \n",
       "8733  9000                               Rua Colômbia     4.0       6.0   \n",
       "8734  1838                                Rua Bolívia     3.0       1.0   \n",
       "8735  1600                       Rua Pereira Barreto      1.0       1.0   \n",
       "8736  1500                  Rua Prefeito Antenor Bué      3.0       2.0   \n",
       "8737  3800                  Rua Doutor Guedes Coelho      3.0       4.0   \n",
       "\n",
       "      parking  area       CEP        Bairro        lat       long  \n",
       "0         1.0    55  11055240       Gonzaga -23.968787 -46.331394  \n",
       "1         1.0    55  11055240       Gonzaga -23.968787 -46.331394  \n",
       "2         1.0    55  11055240       Gonzaga -23.968787 -46.331394  \n",
       "3         3.0   158  11045301     Boqueirão -23.964803 -46.323585  \n",
       "4         3.0   158  11045301     Boqueirão -23.964803 -46.323585  \n",
       "...       ...   ...       ...           ...        ...        ...  \n",
       "8733      4.0   237  11045320     Boqueirão -23.970110 -46.321890  \n",
       "8734      3.0    65  11035210     Aparecida -23.976088 -46.303332  \n",
       "8735      1.0    48  11065110       Gonzaga -23.966544 -46.335180  \n",
       "8736      3.0    92  11040020        Embaré -23.975130 -46.310414  \n",
       "8737      3.0   127  11050231  Encruzilhada -23.953620 -46.327375  \n",
       "\n",
       "[8738 rows x 10 columns]"
      ]
     },
     "execution_count": 3,
     "metadata": {},
     "output_type": "execute_result"
    }
   ],
   "source": [
    "# Merge nos datasets pela coluna \"endereço\"\n",
    "data = santos.merge(end, on='endereco')\n",
    "data = data.drop(['Unnamed: 0_x','Unnamed: 0_y','Unnamed: 0.1' ] , axis = 1)\n",
    "data"
   ]
  },
  {
   "cell_type": "code",
   "execution_count": 4,
   "metadata": {},
   "outputs": [
    {
     "name": "stdout",
     "output_type": "stream",
     "text": [
      "<class 'pandas.core.frame.DataFrame'>\n",
      "Int64Index: 8738 entries, 0 to 8737\n",
      "Data columns (total 10 columns):\n",
      " #   Column    Non-Null Count  Dtype  \n",
      "---  ------    --------------  -----  \n",
      " 0   rent      8738 non-null   int64  \n",
      " 1   endereco  8738 non-null   object \n",
      " 2   rooms     8731 non-null   float64\n",
      " 3   bathroom  8730 non-null   float64\n",
      " 4   parking   8731 non-null   float64\n",
      " 5   area      8738 non-null   int64  \n",
      " 6   CEP       8738 non-null   int64  \n",
      " 7   Bairro    8738 non-null   object \n",
      " 8   lat       8738 non-null   float64\n",
      " 9   long      8738 non-null   float64\n",
      "dtypes: float64(5), int64(3), object(2)\n",
      "memory usage: 750.9+ KB\n"
     ]
    }
   ],
   "source": [
    "data.info()"
   ]
  },
  {
   "cell_type": "code",
   "execution_count": 5,
   "metadata": {},
   "outputs": [
    {
     "data": {
      "text/plain": [
       "rent        0\n",
       "endereco    0\n",
       "rooms       7\n",
       "bathroom    8\n",
       "parking     7\n",
       "area        0\n",
       "CEP         0\n",
       "Bairro      0\n",
       "lat         0\n",
       "long        0\n",
       "dtype: int64"
      ]
     },
     "execution_count": 5,
     "metadata": {},
     "output_type": "execute_result"
    }
   ],
   "source": [
    "data.isna().sum()"
   ]
  },
  {
   "cell_type": "code",
   "execution_count": 6,
   "metadata": {},
   "outputs": [
    {
     "data": {
      "text/plain": [
       "rent        0\n",
       "endereco    0\n",
       "rooms       0\n",
       "bathroom    0\n",
       "parking     0\n",
       "area        0\n",
       "CEP         0\n",
       "Bairro      0\n",
       "lat         0\n",
       "long        0\n",
       "dtype: int64"
      ]
     },
     "execution_count": 6,
     "metadata": {},
     "output_type": "execute_result"
    }
   ],
   "source": [
    "# Removendo entradas sem os campos \"bathroom\" ou \"rooms\" preenchidos\n",
    "data = data.dropna(how = 'any', subset=['bathroom', 'rooms'])\n",
    "data.isna().sum()"
   ]
  },
  {
   "cell_type": "code",
   "execution_count": 7,
   "metadata": {},
   "outputs": [
    {
     "name": "stderr",
     "output_type": "stream",
     "text": [
      "C:\\Users\\DELL\\Anaconda3\\lib\\site-packages\\ipykernel_launcher.py:3: SettingWithCopyWarning: \n",
      "A value is trying to be set on a copy of a slice from a DataFrame\n",
      "\n",
      "See the caveats in the documentation: https://pandas.pydata.org/pandas-docs/stable/user_guide/indexing.html#returning-a-view-versus-a-copy\n",
      "  This is separate from the ipykernel package so we can avoid doing imports until\n"
     ]
    }
   ],
   "source": [
    "# Removendo as entradas duplicadas\n",
    "data.drop_duplicates(subset =[\"area\", \"rooms\",\"bathroom\",\"parking\",\"CEP\"], \n",
    "                     keep = \"first\", inplace = True) "
   ]
  },
  {
   "cell_type": "code",
   "execution_count": 8,
   "metadata": {},
   "outputs": [
    {
     "data": {
      "text/plain": [
       "(4125, 10)"
      ]
     },
     "execution_count": 8,
     "metadata": {},
     "output_type": "execute_result"
    }
   ],
   "source": [
    "data.shape"
   ]
  },
  {
   "cell_type": "code",
   "execution_count": 9,
   "metadata": {},
   "outputs": [
    {
     "data": {
      "text/plain": [
       "rent        0\n",
       "endereco    0\n",
       "rooms       0\n",
       "bathroom    0\n",
       "parking     0\n",
       "area        0\n",
       "CEP         0\n",
       "Bairro      0\n",
       "lat         0\n",
       "long        0\n",
       "dtype: int64"
      ]
     },
     "execution_count": 9,
     "metadata": {},
     "output_type": "execute_result"
    }
   ],
   "source": [
    "# Verificando se possui algum valor sem preenchimento\n",
    "data.isna().sum()"
   ]
  },
  {
   "cell_type": "code",
   "execution_count": 10,
   "metadata": {},
   "outputs": [
    {
     "name": "stderr",
     "output_type": "stream",
     "text": [
      "C:\\Users\\DELL\\Anaconda3\\lib\\site-packages\\ipykernel_launcher.py:2: SettingWithCopyWarning: \n",
      "A value is trying to be set on a copy of a slice from a DataFrame.\n",
      "Try using .loc[row_indexer,col_indexer] = value instead\n",
      "\n",
      "See the caveats in the documentation: https://pandas.pydata.org/pandas-docs/stable/user_guide/indexing.html#returning-a-view-versus-a-copy\n",
      "  \n"
     ]
    }
   ],
   "source": [
    "# Calculando o valor por metro quadrado\n",
    "data['value_per_area'] = data['rent']/data['area']"
   ]
  },
  {
   "cell_type": "code",
   "execution_count": 11,
   "metadata": {},
   "outputs": [
    {
     "data": {
      "text/html": [
       "<div>\n",
       "<style scoped>\n",
       "    .dataframe tbody tr th:only-of-type {\n",
       "        vertical-align: middle;\n",
       "    }\n",
       "\n",
       "    .dataframe tbody tr th {\n",
       "        vertical-align: top;\n",
       "    }\n",
       "\n",
       "    .dataframe thead th {\n",
       "        text-align: right;\n",
       "    }\n",
       "</style>\n",
       "<table border=\"1\" class=\"dataframe\">\n",
       "  <thead>\n",
       "    <tr style=\"text-align: right;\">\n",
       "      <th></th>\n",
       "      <th>rent</th>\n",
       "      <th>rooms</th>\n",
       "      <th>bathroom</th>\n",
       "      <th>parking</th>\n",
       "      <th>area</th>\n",
       "      <th>CEP</th>\n",
       "      <th>lat</th>\n",
       "      <th>long</th>\n",
       "      <th>value_per_area</th>\n",
       "    </tr>\n",
       "  </thead>\n",
       "  <tbody>\n",
       "    <tr>\n",
       "      <th>count</th>\n",
       "      <td>4125.000000</td>\n",
       "      <td>4125.000000</td>\n",
       "      <td>4125.000000</td>\n",
       "      <td>4125.000000</td>\n",
       "      <td>4125.000000</td>\n",
       "      <td>4.125000e+03</td>\n",
       "      <td>4125.000000</td>\n",
       "      <td>4125.000000</td>\n",
       "      <td>4125.000000</td>\n",
       "    </tr>\n",
       "    <tr>\n",
       "      <th>mean</th>\n",
       "      <td>3974.412848</td>\n",
       "      <td>2.352727</td>\n",
       "      <td>2.390303</td>\n",
       "      <td>2.352727</td>\n",
       "      <td>119.602424</td>\n",
       "      <td>1.104940e+07</td>\n",
       "      <td>-23.965420</td>\n",
       "      <td>-46.326168</td>\n",
       "      <td>36.165176</td>\n",
       "    </tr>\n",
       "    <tr>\n",
       "      <th>std</th>\n",
       "      <td>5970.559850</td>\n",
       "      <td>0.969939</td>\n",
       "      <td>1.347089</td>\n",
       "      <td>0.969939</td>\n",
       "      <td>79.383573</td>\n",
       "      <td>1.596602e+04</td>\n",
       "      <td>0.010373</td>\n",
       "      <td>0.014041</td>\n",
       "      <td>82.513932</td>\n",
       "    </tr>\n",
       "    <tr>\n",
       "      <th>min</th>\n",
       "      <td>250.000000</td>\n",
       "      <td>1.000000</td>\n",
       "      <td>1.000000</td>\n",
       "      <td>1.000000</td>\n",
       "      <td>10.000000</td>\n",
       "      <td>1.101001e+07</td>\n",
       "      <td>-23.989809</td>\n",
       "      <td>-46.382552</td>\n",
       "      <td>4.411765</td>\n",
       "    </tr>\n",
       "    <tr>\n",
       "      <th>25%</th>\n",
       "      <td>2200.000000</td>\n",
       "      <td>2.000000</td>\n",
       "      <td>1.000000</td>\n",
       "      <td>2.000000</td>\n",
       "      <td>70.000000</td>\n",
       "      <td>1.104000e+07</td>\n",
       "      <td>-23.968279</td>\n",
       "      <td>-46.334000</td>\n",
       "      <td>23.809524</td>\n",
       "    </tr>\n",
       "    <tr>\n",
       "      <th>50%</th>\n",
       "      <td>3000.000000</td>\n",
       "      <td>2.000000</td>\n",
       "      <td>2.000000</td>\n",
       "      <td>2.000000</td>\n",
       "      <td>96.000000</td>\n",
       "      <td>1.105002e+07</td>\n",
       "      <td>-23.964803</td>\n",
       "      <td>-46.327691</td>\n",
       "      <td>30.000000</td>\n",
       "    </tr>\n",
       "    <tr>\n",
       "      <th>75%</th>\n",
       "      <td>4300.000000</td>\n",
       "      <td>3.000000</td>\n",
       "      <td>3.000000</td>\n",
       "      <td>3.000000</td>\n",
       "      <td>147.000000</td>\n",
       "      <td>1.106047e+07</td>\n",
       "      <td>-23.958225</td>\n",
       "      <td>-46.321602</td>\n",
       "      <td>40.462428</td>\n",
       "    </tr>\n",
       "    <tr>\n",
       "      <th>max</th>\n",
       "      <td>237624.000000</td>\n",
       "      <td>20.000000</td>\n",
       "      <td>13.000000</td>\n",
       "      <td>20.000000</td>\n",
       "      <td>750.000000</td>\n",
       "      <td>1.109010e+07</td>\n",
       "      <td>-23.927146</td>\n",
       "      <td>-46.297092</td>\n",
       "      <td>4400.000000</td>\n",
       "    </tr>\n",
       "  </tbody>\n",
       "</table>\n",
       "</div>"
      ],
      "text/plain": [
       "                rent        rooms     bathroom      parking         area  \\\n",
       "count    4125.000000  4125.000000  4125.000000  4125.000000  4125.000000   \n",
       "mean     3974.412848     2.352727     2.390303     2.352727   119.602424   \n",
       "std      5970.559850     0.969939     1.347089     0.969939    79.383573   \n",
       "min       250.000000     1.000000     1.000000     1.000000    10.000000   \n",
       "25%      2200.000000     2.000000     1.000000     2.000000    70.000000   \n",
       "50%      3000.000000     2.000000     2.000000     2.000000    96.000000   \n",
       "75%      4300.000000     3.000000     3.000000     3.000000   147.000000   \n",
       "max    237624.000000    20.000000    13.000000    20.000000   750.000000   \n",
       "\n",
       "                CEP          lat         long  value_per_area  \n",
       "count  4.125000e+03  4125.000000  4125.000000     4125.000000  \n",
       "mean   1.104940e+07   -23.965420   -46.326168       36.165176  \n",
       "std    1.596602e+04     0.010373     0.014041       82.513932  \n",
       "min    1.101001e+07   -23.989809   -46.382552        4.411765  \n",
       "25%    1.104000e+07   -23.968279   -46.334000       23.809524  \n",
       "50%    1.105002e+07   -23.964803   -46.327691       30.000000  \n",
       "75%    1.106047e+07   -23.958225   -46.321602       40.462428  \n",
       "max    1.109010e+07   -23.927146   -46.297092     4400.000000  "
      ]
     },
     "execution_count": 11,
     "metadata": {},
     "output_type": "execute_result"
    }
   ],
   "source": [
    "data.describe()"
   ]
  },
  {
   "cell_type": "code",
   "execution_count": 12,
   "metadata": {},
   "outputs": [
    {
     "data": {
      "text/plain": [
       "([<matplotlib.axis.XTick at 0x1f15be52b48>,\n",
       "  <matplotlib.axis.XTick at 0x1f15be52b08>,\n",
       "  <matplotlib.axis.XTick at 0x1f15bea7448>,\n",
       "  <matplotlib.axis.XTick at 0x1f15ded8288>,\n",
       "  <matplotlib.axis.XTick at 0x1f15df7c248>,\n",
       "  <matplotlib.axis.XTick at 0x1f15df7c988>,\n",
       "  <matplotlib.axis.XTick at 0x1f15df81248>,\n",
       "  <matplotlib.axis.XTick at 0x1f15df81988>,\n",
       "  <matplotlib.axis.XTick at 0x1f15df85208>,\n",
       "  <matplotlib.axis.XTick at 0x1f15df85948>],\n",
       " <a list of 10 Text major ticklabel objects>)"
      ]
     },
     "execution_count": 12,
     "metadata": {},
     "output_type": "execute_result"
    },
    {
     "data": {
      "image/png": "[encoded data removed]",
      "text/plain": [
       "<Figure size 864x432 with 1 Axes>"
      ]
     },
     "metadata": {
      "needs_background": "light"
     },
     "output_type": "display_data"
    }
   ],
   "source": [
    "plt.figure(figsize=(12, 6))\n",
    "sns.distplot(data['rent']).set(xlabel='Valor do Aluguel (R$)')\n",
    "plt.xticks(np.arange(data['rent'].min(), data['rent'].max(), step=25000))"
   ]
  },
  {
   "cell_type": "markdown",
   "metadata": {},
   "source": [
    "Como podemos ver, temos um outlier muito acima dos valores coletados. Vamos removê-lo e ver como ficará o gráfico de distribuição."
   ]
  },
  {
   "cell_type": "code",
   "execution_count": 13,
   "metadata": {},
   "outputs": [],
   "source": [
    "data = data.query('rent < 200000')"
   ]
  },
  {
   "cell_type": "code",
   "execution_count": 14,
   "metadata": {},
   "outputs": [
    {
     "data": {
      "text/plain": [
       "([<matplotlib.axis.XTick at 0x1f15dfd3c88>,\n",
       "  <matplotlib.axis.XTick at 0x1f15dfd3c48>,\n",
       "  <matplotlib.axis.XTick at 0x1f15dfd3208>,\n",
       "  <matplotlib.axis.XTick at 0x1f15dff3b08>,\n",
       "  <matplotlib.axis.XTick at 0x1f15e08b948>,\n",
       "  <matplotlib.axis.XTick at 0x1f15e0904c8>,\n",
       "  <matplotlib.axis.XTick at 0x1f15e090ac8>,\n",
       "  <matplotlib.axis.XTick at 0x1f15e085e08>,\n",
       "  <matplotlib.axis.XTick at 0x1f15e094548>,\n",
       "  <matplotlib.axis.XTick at 0x1f15e094d88>,\n",
       "  <matplotlib.axis.XTick at 0x1f15e0995c8>,\n",
       "  <matplotlib.axis.XTick at 0x1f15e099e08>],\n",
       " <a list of 12 Text major ticklabel objects>)"
      ]
     },
     "execution_count": 14,
     "metadata": {},
     "output_type": "execute_result"
    },
    {
     "data": {
      "image/png": "[encoded data removed]",
      "text/plain": [
       "<Figure size 864x432 with 1 Axes>"
      ]
     },
     "metadata": {
      "needs_background": "light"
     },
     "output_type": "display_data"
    }
   ],
   "source": [
    "plt.figure(figsize=(12, 6))\n",
    "sns.distplot(data['rent']).set(xlabel='Valor do Aluguel (R$)')\n",
    "plt.xticks(np.arange(data['rent'].min(), data['rent'].max(), step=3000))"
   ]
  },
  {
   "cell_type": "markdown",
   "metadata": {},
   "source": [
    "O outlier foi removido, e agora podemos observar o gráfico de distribuição mais real.\n",
    "\n",
    "Vamos agora observar o gráfico de distribuição da variável \"area\"."
   ]
  },
  {
   "cell_type": "code",
   "execution_count": 15,
   "metadata": {},
   "outputs": [
    {
     "data": {
      "text/plain": [
       "([<matplotlib.axis.XTick at 0x1f15dffda88>],\n",
       " <a list of 1 Text major ticklabel objects>)"
      ]
     },
     "execution_count": 15,
     "metadata": {},
     "output_type": "execute_result"
    },
    {
     "data": {
      "image/png": "[encoded data removed]",
      "text/plain": [
       "<Figure size 864x432 with 1 Axes>"
      ]
     },
     "metadata": {
      "needs_background": "light"
     },
     "output_type": "display_data"
    }
   ],
   "source": [
    "plt.figure(figsize=(12, 6))\n",
    "sns.distplot(data['area']).set(xlabel='Área dos Imóveis (m²)')\n",
    "plt.xticks(np.arange(data['area'].min(), data['area'].max(), step=3000))"
   ]
  },
  {
   "cell_type": "markdown",
   "metadata": {},
   "source": [
    "Como podemos observar, o gráfico de distribuição das variáveis \"area\" e \"rent\" possuem assimetria positiva. Podemos calcular o coeficiente de assimetria (skewness) utilizando a função \"skew\".\n",
    "\n",
    "- Se o resultado estiver entre -0.5 e 0.5, podemos concluir que a distribuição é aproximadamente simétrica\n",
    "- Se o resultado estiver entre -0.5 e -1.0 ou 0.5 e 1.0, podemos concluir que a distribuição é moderadamente assimétrica\n",
    "- Se o resultado for menor que -1.0 ou maior do que 1.0, podemos concluir que a distribuição é altamente assimétrica"
   ]
  },
  {
   "cell_type": "code",
   "execution_count": 16,
   "metadata": {},
   "outputs": [
    {
     "data": {
      "text/plain": [
       "4.63556694763996"
      ]
     },
     "execution_count": 16,
     "metadata": {},
     "output_type": "execute_result"
    }
   ],
   "source": [
    "skew(data['rent'])"
   ]
  },
  {
   "cell_type": "code",
   "execution_count": 17,
   "metadata": {},
   "outputs": [
    {
     "data": {
      "text/plain": [
       "2.5921133220279557"
      ]
     },
     "execution_count": 17,
     "metadata": {},
     "output_type": "execute_result"
    }
   ],
   "source": [
    "skew(data['area'])"
   ]
  },
  {
   "cell_type": "markdown",
   "metadata": {},
   "source": [
    "Comparando com os coeficientes de assimetria, podemos concluir que ambos os campos possuem uma distribuição altamente assimétrica.\n",
    "\n",
    "Para tornar essas distribuições simétricas (esse processo também é conhecido como Normalização dos dados) podemos aplicar a Transformação Logarítimica para ambas as variáveis."
   ]
  },
  {
   "cell_type": "code",
   "execution_count": 18,
   "metadata": {},
   "outputs": [],
   "source": [
    "data['lrent'] = np.log1p(data['rent'])\n",
    "data['larea'] = np.log1p(data['area'])"
   ]
  },
  {
   "cell_type": "code",
   "execution_count": 19,
   "metadata": {},
   "outputs": [
    {
     "data": {
      "text/plain": [
       "[Text(0.5, 0, 'Área dos Imóveis (m²)')]"
      ]
     },
     "execution_count": 19,
     "metadata": {},
     "output_type": "execute_result"
    },
    {
     "data": {
      "image/png": "[encoded data removed]",
      "text/plain": [
       "<Figure size 864x432 with 2 Axes>"
      ]
     },
     "metadata": {
      "needs_background": "light"
     },
     "output_type": "display_data"
    }
   ],
   "source": [
    "plt.figure(figsize=(12, 6))\n",
    "\n",
    "plt.subplot(1, 2, 1)\n",
    "sns.distplot(data['lrent']).set(xlabel='Valor do Aluguel (R$)')\n",
    "\n",
    "plt.subplot(1, 2, 2)\n",
    "sns.distplot(data['larea']).set(xlabel='Área dos Imóveis (m²)')"
   ]
  },
  {
   "cell_type": "code",
   "execution_count": 20,
   "metadata": {},
   "outputs": [
    {
     "name": "stdout",
     "output_type": "stream",
     "text": [
      "Skewness (area): 0.3223275493500189\n",
      "Skewness (rent): 0.7669972494917753\n"
     ]
    }
   ],
   "source": [
    "print(\"Skewness (area): \"+ str(skew(data['larea'])))\n",
    "print(\"Skewness (rent): \"+ str(skew(data['lrent'])))"
   ]
  },
  {
   "cell_type": "markdown",
   "metadata": {},
   "source": [
    "Como podemos observar, os gráficos de distribuição tiveram sua assimetria muito reduzidas após aplicar a transformação logarítmica."
   ]
  },
  {
   "cell_type": "markdown",
   "metadata": {},
   "source": [
    "### Limpeza dos dados\n",
    "\n",
    "Para uma melhor performance do modelo, optamos por manter apenas os Bairros que possuem mais de 100 imóveis coletados, já que para alguns bairros poderia apresentar inconsistência no resultado devido a falta de informações sobre algumas características específicas de imóvel."
   ]
  },
  {
   "cell_type": "code",
   "execution_count": 21,
   "metadata": {},
   "outputs": [
    {
     "data": {
      "text/plain": [
       "Boqueirão            998\n",
       "Gonzaga              907\n",
       "Ponta da Praia       514\n",
       "Aparecida            265\n",
       "Embaré               257\n",
       "José Menino          235\n",
       "Vila Mathias         201\n",
       "Marapé               193\n",
       "Campo Grande         123\n",
       "Pompéia              114\n",
       "Vila Belmiro          73\n",
       "Encruzilhada          63\n",
       "Macuco                60\n",
       "Paquetá               50\n",
       "Rádio Clube           21\n",
       "Estuário              13\n",
       "Centro                 8\n",
       "Saboó                  6\n",
       "Chico de Paula         5\n",
       "São Jorge              3\n",
       "Areia Branca           3\n",
       "Castelo                3\n",
       "Morro Nova Cintra      2\n",
       "Santa Maria            2\n",
       "Jabaquara              1\n",
       "Morro Penha            1\n",
       "Bom Retiro             1\n",
       "Vila Nova              1\n",
       "Name: Bairro, dtype: int64"
      ]
     },
     "execution_count": 21,
     "metadata": {},
     "output_type": "execute_result"
    }
   ],
   "source": [
    "data['Bairro'].value_counts()"
   ]
  },
  {
   "cell_type": "code",
   "execution_count": 22,
   "metadata": {},
   "outputs": [],
   "source": [
    "counts = data['Bairro'].value_counts()\n",
    "data = data[~data['Bairro'].isin(counts[counts < 101].index)]"
   ]
  },
  {
   "cell_type": "code",
   "execution_count": 23,
   "metadata": {},
   "outputs": [
    {
     "data": {
      "text/plain": [
       "Bairro          rooms\n",
       "Aparecida       1.0       53\n",
       "                2.0       93\n",
       "                3.0       84\n",
       "                4.0       34\n",
       "                5.0        1\n",
       "Boqueirão       1.0      196\n",
       "                2.0      318\n",
       "                3.0      303\n",
       "                4.0      173\n",
       "                5.0        8\n",
       "Campo Grande    1.0       19\n",
       "                2.0       84\n",
       "                3.0       18\n",
       "                4.0        2\n",
       "Embaré          1.0       28\n",
       "                2.0       93\n",
       "                3.0      111\n",
       "                4.0       23\n",
       "                5.0        2\n",
       "Gonzaga         1.0      170\n",
       "                2.0      336\n",
       "                3.0      314\n",
       "                4.0       70\n",
       "                5.0       16\n",
       "                20.0       1\n",
       "José Menino     1.0       62\n",
       "                2.0      116\n",
       "                3.0       49\n",
       "                4.0        8\n",
       "Marapé          1.0       31\n",
       "                2.0      115\n",
       "                3.0       41\n",
       "                4.0        3\n",
       "                5.0        2\n",
       "                6.0        1\n",
       "Pompéia         1.0       22\n",
       "                2.0       39\n",
       "                3.0       48\n",
       "                4.0        5\n",
       "Ponta da Praia  1.0       93\n",
       "                2.0      179\n",
       "                3.0      199\n",
       "                4.0       40\n",
       "                5.0        2\n",
       "                10.0       1\n",
       "Vila Mathias    1.0       33\n",
       "                2.0       82\n",
       "                3.0       59\n",
       "                4.0       26\n",
       "                5.0        1\n",
       "Name: rent, dtype: int64"
      ]
     },
     "execution_count": 23,
     "metadata": {},
     "output_type": "execute_result"
    }
   ],
   "source": [
    "data.groupby(['Bairro','rooms'])['rent'].count()"
   ]
  },
  {
   "cell_type": "markdown",
   "metadata": {},
   "source": [
    "Como observado, temos muito poucas informações sobre os imóveis com 5 ou mais quartos. \n",
    "\n",
    "Por isso, manteremos apenas os imóveis com até 4 quartos."
   ]
  },
  {
   "cell_type": "code",
   "execution_count": 24,
   "metadata": {},
   "outputs": [],
   "source": [
    "data = data.query('rooms < 5')"
   ]
  },
  {
   "cell_type": "code",
   "execution_count": 25,
   "metadata": {},
   "outputs": [
    {
     "data": {
      "text/plain": [
       "Bairro          rooms\n",
       "Aparecida       1.0       53\n",
       "                2.0       93\n",
       "                3.0       84\n",
       "                4.0       34\n",
       "Boqueirão       1.0      196\n",
       "                2.0      318\n",
       "                3.0      303\n",
       "                4.0      173\n",
       "Campo Grande    1.0       19\n",
       "                2.0       84\n",
       "                3.0       18\n",
       "                4.0        2\n",
       "Embaré          1.0       28\n",
       "                2.0       93\n",
       "                3.0      111\n",
       "                4.0       23\n",
       "Gonzaga         1.0      170\n",
       "                2.0      336\n",
       "                3.0      314\n",
       "                4.0       70\n",
       "José Menino     1.0       62\n",
       "                2.0      116\n",
       "                3.0       49\n",
       "                4.0        8\n",
       "Marapé          1.0       31\n",
       "                2.0      115\n",
       "                3.0       41\n",
       "                4.0        3\n",
       "Pompéia         1.0       22\n",
       "                2.0       39\n",
       "                3.0       48\n",
       "                4.0        5\n",
       "Ponta da Praia  1.0       93\n",
       "                2.0      179\n",
       "                3.0      199\n",
       "                4.0       40\n",
       "Vila Mathias    1.0       33\n",
       "                2.0       82\n",
       "                3.0       59\n",
       "                4.0       26\n",
       "Name: rent, dtype: int64"
      ]
     },
     "execution_count": 25,
     "metadata": {},
     "output_type": "execute_result"
    }
   ],
   "source": [
    "data.groupby(['Bairro','rooms'])['rent'].count()"
   ]
  },
  {
   "cell_type": "code",
   "execution_count": 26,
   "metadata": {},
   "outputs": [
    {
     "data": {
      "text/plain": [
       "Bairro        bathroom\n",
       "Aparecida     1.0         89\n",
       "              2.0         67\n",
       "              3.0         50\n",
       "              4.0         30\n",
       "              5.0         20\n",
       "                          ..\n",
       "Vila Mathias  2.0         70\n",
       "              3.0         27\n",
       "              4.0         15\n",
       "              5.0         20\n",
       "              6.0          3\n",
       "Name: rent, Length: 68, dtype: int64"
      ]
     },
     "execution_count": 26,
     "metadata": {},
     "output_type": "execute_result"
    }
   ],
   "source": [
    "data.groupby(['Bairro','bathroom'])['rent'].count()"
   ]
  },
  {
   "cell_type": "markdown",
   "metadata": {},
   "source": [
    "O mesmo foi observado para os imóves com 6 ou mais banheiros. \n",
    "\n",
    "Por isso estaremos eliminando os imóveis que possuem mais do que 5 banheiros."
   ]
  },
  {
   "cell_type": "code",
   "execution_count": 27,
   "metadata": {},
   "outputs": [],
   "source": [
    "data = data.query('bathroom < 6')"
   ]
  },
  {
   "cell_type": "markdown",
   "metadata": {},
   "source": [
    "#### Remoção de Outliers\n",
    "\n",
    "Os estatísticos desenvolveram diversas maneiras de identificar o que pode e o que não pode ser considerado um outlier.\n",
    "Uma regra bastante usada afirma que um dado é um outlier quando ele é maior que 1.5 * FIQ acima do terceiro quartil ou abaixo do primeiro quartil. \n",
    "\n",
    "Em outras palavras, outliers baixos estão abaixo de Q1 - 1.5 * FIQ e outliers altos estão acima de Q3 + 1.5 * FIQ.\n",
    "\n",
    "Para isso, iremos analisar e aplicar essa técnica no campo \"value_per_area\", afim de remover as entradas contendo o valor por metro quadrado fora da realidade."
   ]
  },
  {
   "cell_type": "code",
   "execution_count": 28,
   "metadata": {},
   "outputs": [
    {
     "data": {
      "text/plain": [
       "5.209514027850611"
      ]
     },
     "execution_count": 28,
     "metadata": {},
     "output_type": "execute_result"
    }
   ],
   "source": [
    "# Cálculo do coeficiente de assimetria\n",
    "skew(data['value_per_area'])"
   ]
  },
  {
   "cell_type": "code",
   "execution_count": 29,
   "metadata": {},
   "outputs": [],
   "source": [
    "# Transformação logarítmica\n",
    "data['value_per_area'] = np.log1p(data['value_per_area'])"
   ]
  },
  {
   "cell_type": "code",
   "execution_count": 30,
   "metadata": {},
   "outputs": [],
   "source": [
    "def Remove_Outlier_Indices(df):\n",
    "    Q1 = df.quantile(0.25)\n",
    "    Q3 = df.quantile(0.75)\n",
    "    IQR = Q3 - Q1\n",
    "    trueList = ~((df < (Q1 - 1.5 * IQR)) |(df > (Q3 + 1.5 * IQR)))\n",
    "    return trueList"
   ]
  },
  {
   "cell_type": "code",
   "execution_count": 31,
   "metadata": {},
   "outputs": [
    {
     "data": {
      "text/html": [
       "<div>\n",
       "<style scoped>\n",
       "    .dataframe tbody tr th:only-of-type {\n",
       "        vertical-align: middle;\n",
       "    }\n",
       "\n",
       "    .dataframe tbody tr th {\n",
       "        vertical-align: top;\n",
       "    }\n",
       "\n",
       "    .dataframe thead th {\n",
       "        text-align: right;\n",
       "    }\n",
       "</style>\n",
       "<table border=\"1\" class=\"dataframe\">\n",
       "  <thead>\n",
       "    <tr style=\"text-align: right;\">\n",
       "      <th></th>\n",
       "      <th>rent</th>\n",
       "      <th>endereco</th>\n",
       "      <th>rooms</th>\n",
       "      <th>bathroom</th>\n",
       "      <th>parking</th>\n",
       "      <th>area</th>\n",
       "      <th>CEP</th>\n",
       "      <th>Bairro</th>\n",
       "      <th>lat</th>\n",
       "      <th>long</th>\n",
       "      <th>value_per_area</th>\n",
       "      <th>lrent</th>\n",
       "      <th>larea</th>\n",
       "    </tr>\n",
       "  </thead>\n",
       "  <tbody>\n",
       "    <tr>\n",
       "      <th>0</th>\n",
       "      <td>1450</td>\n",
       "      <td>Rua Carlos Afonseca</td>\n",
       "      <td>1.0</td>\n",
       "      <td>1.0</td>\n",
       "      <td>1.0</td>\n",
       "      <td>55</td>\n",
       "      <td>11055240</td>\n",
       "      <td>Gonzaga</td>\n",
       "      <td>-23.968787</td>\n",
       "      <td>-46.331394</td>\n",
       "      <td>3.309215</td>\n",
       "      <td>7.280008</td>\n",
       "      <td>4.025352</td>\n",
       "    </tr>\n",
       "    <tr>\n",
       "      <th>3</th>\n",
       "      <td>8500</td>\n",
       "      <td>Avenida Doutor Epitácio Pessoa</td>\n",
       "      <td>3.0</td>\n",
       "      <td>2.0</td>\n",
       "      <td>3.0</td>\n",
       "      <td>158</td>\n",
       "      <td>11045301</td>\n",
       "      <td>Boqueirão</td>\n",
       "      <td>-23.964803</td>\n",
       "      <td>-46.323585</td>\n",
       "      <td>4.003644</td>\n",
       "      <td>9.047939</td>\n",
       "      <td>5.068904</td>\n",
       "    </tr>\n",
       "    <tr>\n",
       "      <th>6</th>\n",
       "      <td>4100</td>\n",
       "      <td>Rua República do Equador</td>\n",
       "      <td>2.0</td>\n",
       "      <td>4.0</td>\n",
       "      <td>2.0</td>\n",
       "      <td>111</td>\n",
       "      <td>11030150</td>\n",
       "      <td>Ponta da Praia</td>\n",
       "      <td>-23.982137</td>\n",
       "      <td>-46.299935</td>\n",
       "      <td>3.635925</td>\n",
       "      <td>8.318986</td>\n",
       "      <td>4.718499</td>\n",
       "    </tr>\n",
       "    <tr>\n",
       "      <th>15</th>\n",
       "      <td>2380</td>\n",
       "      <td>Rua João Caetano</td>\n",
       "      <td>2.0</td>\n",
       "      <td>2.0</td>\n",
       "      <td>2.0</td>\n",
       "      <td>90</td>\n",
       "      <td>11070310</td>\n",
       "      <td>Campo Grande</td>\n",
       "      <td>-23.958225</td>\n",
       "      <td>-46.337921</td>\n",
       "      <td>3.312164</td>\n",
       "      <td>7.775276</td>\n",
       "      <td>4.510860</td>\n",
       "    </tr>\n",
       "    <tr>\n",
       "      <th>18</th>\n",
       "      <td>5200</td>\n",
       "      <td>Avenida Rei Alberto I</td>\n",
       "      <td>3.0</td>\n",
       "      <td>3.0</td>\n",
       "      <td>3.0</td>\n",
       "      <td>132</td>\n",
       "      <td>11030381</td>\n",
       "      <td>Ponta da Praia</td>\n",
       "      <td>-23.988478</td>\n",
       "      <td>-46.298466</td>\n",
       "      <td>3.698680</td>\n",
       "      <td>8.556606</td>\n",
       "      <td>4.890349</td>\n",
       "    </tr>\n",
       "    <tr>\n",
       "      <th>...</th>\n",
       "      <td>...</td>\n",
       "      <td>...</td>\n",
       "      <td>...</td>\n",
       "      <td>...</td>\n",
       "      <td>...</td>\n",
       "      <td>...</td>\n",
       "      <td>...</td>\n",
       "      <td>...</td>\n",
       "      <td>...</td>\n",
       "      <td>...</td>\n",
       "      <td>...</td>\n",
       "      <td>...</td>\n",
       "      <td>...</td>\n",
       "    </tr>\n",
       "    <tr>\n",
       "      <th>8729</th>\n",
       "      <td>7000</td>\n",
       "      <td>Rua Firmino Barbosa</td>\n",
       "      <td>4.0</td>\n",
       "      <td>3.0</td>\n",
       "      <td>4.0</td>\n",
       "      <td>330</td>\n",
       "      <td>11055130</td>\n",
       "      <td>Boqueirão</td>\n",
       "      <td>-23.967363</td>\n",
       "      <td>-46.326685</td>\n",
       "      <td>3.100638</td>\n",
       "      <td>8.853808</td>\n",
       "      <td>5.802118</td>\n",
       "    </tr>\n",
       "    <tr>\n",
       "      <th>8730</th>\n",
       "      <td>2000</td>\n",
       "      <td>Rua Vereador Henrique Soler .</td>\n",
       "      <td>1.0</td>\n",
       "      <td>1.0</td>\n",
       "      <td>1.0</td>\n",
       "      <td>60</td>\n",
       "      <td>11030011</td>\n",
       "      <td>Ponta da Praia</td>\n",
       "      <td>-23.982473</td>\n",
       "      <td>-46.297624</td>\n",
       "      <td>3.536117</td>\n",
       "      <td>7.601402</td>\n",
       "      <td>4.110874</td>\n",
       "    </tr>\n",
       "    <tr>\n",
       "      <th>8732</th>\n",
       "      <td>2900</td>\n",
       "      <td>Praça Nossa Senhora Aparecida</td>\n",
       "      <td>2.0</td>\n",
       "      <td>3.0</td>\n",
       "      <td>2.0</td>\n",
       "      <td>134</td>\n",
       "      <td>11025025</td>\n",
       "      <td>Aparecida</td>\n",
       "      <td>-23.972956</td>\n",
       "      <td>-46.302527</td>\n",
       "      <td>3.119797</td>\n",
       "      <td>7.972811</td>\n",
       "      <td>4.905275</td>\n",
       "    </tr>\n",
       "    <tr>\n",
       "      <th>8734</th>\n",
       "      <td>1838</td>\n",
       "      <td>Rua Bolívia</td>\n",
       "      <td>3.0</td>\n",
       "      <td>1.0</td>\n",
       "      <td>3.0</td>\n",
       "      <td>65</td>\n",
       "      <td>11035210</td>\n",
       "      <td>Aparecida</td>\n",
       "      <td>-23.976088</td>\n",
       "      <td>-46.303332</td>\n",
       "      <td>3.376800</td>\n",
       "      <td>7.516977</td>\n",
       "      <td>4.189655</td>\n",
       "    </tr>\n",
       "    <tr>\n",
       "      <th>8736</th>\n",
       "      <td>1500</td>\n",
       "      <td>Rua Prefeito Antenor Bué</td>\n",
       "      <td>3.0</td>\n",
       "      <td>2.0</td>\n",
       "      <td>3.0</td>\n",
       "      <td>92</td>\n",
       "      <td>11040020</td>\n",
       "      <td>Embaré</td>\n",
       "      <td>-23.975130</td>\n",
       "      <td>-46.310414</td>\n",
       "      <td>2.850958</td>\n",
       "      <td>7.313887</td>\n",
       "      <td>4.532599</td>\n",
       "    </tr>\n",
       "  </tbody>\n",
       "</table>\n",
       "<p>3626 rows × 13 columns</p>\n",
       "</div>"
      ],
      "text/plain": [
       "      rent                                         endereco  rooms  bathroom  \\\n",
       "0     1450                            Rua Carlos Afonseca      1.0       1.0   \n",
       "3     8500                  Avenida Doutor Epitácio Pessoa     3.0       2.0   \n",
       "6     4100                       Rua República do Equador      2.0       4.0   \n",
       "15    2380                               Rua João Caetano      2.0       2.0   \n",
       "18    5200                           Avenida Rei Alberto I     3.0       3.0   \n",
       "...    ...                                              ...    ...       ...   \n",
       "8729  7000                            Rua Firmino Barbosa      4.0       3.0   \n",
       "8730  2000                   Rua Vereador Henrique Soler .     1.0       1.0   \n",
       "8732  2900                  Praça Nossa Senhora Aparecida      2.0       3.0   \n",
       "8734  1838                                     Rua Bolívia     3.0       1.0   \n",
       "8736  1500                       Rua Prefeito Antenor Bué      3.0       2.0   \n",
       "\n",
       "      parking  area       CEP          Bairro        lat       long  \\\n",
       "0         1.0    55  11055240         Gonzaga -23.968787 -46.331394   \n",
       "3         3.0   158  11045301       Boqueirão -23.964803 -46.323585   \n",
       "6         2.0   111  11030150  Ponta da Praia -23.982137 -46.299935   \n",
       "15        2.0    90  11070310    Campo Grande -23.958225 -46.337921   \n",
       "18        3.0   132  11030381  Ponta da Praia -23.988478 -46.298466   \n",
       "...       ...   ...       ...             ...        ...        ...   \n",
       "8729      4.0   330  11055130       Boqueirão -23.967363 -46.326685   \n",
       "8730      1.0    60  11030011  Ponta da Praia -23.982473 -46.297624   \n",
       "8732      2.0   134  11025025       Aparecida -23.972956 -46.302527   \n",
       "8734      3.0    65  11035210       Aparecida -23.976088 -46.303332   \n",
       "8736      3.0    92  11040020          Embaré -23.975130 -46.310414   \n",
       "\n",
       "      value_per_area     lrent     larea  \n",
       "0           3.309215  7.280008  4.025352  \n",
       "3           4.003644  9.047939  5.068904  \n",
       "6           3.635925  8.318986  4.718499  \n",
       "15          3.312164  7.775276  4.510860  \n",
       "18          3.698680  8.556606  4.890349  \n",
       "...              ...       ...       ...  \n",
       "8729        3.100638  8.853808  5.802118  \n",
       "8730        3.536117  7.601402  4.110874  \n",
       "8732        3.119797  7.972811  4.905275  \n",
       "8734        3.376800  7.516977  4.189655  \n",
       "8736        2.850958  7.313887  4.532599  \n",
       "\n",
       "[3626 rows x 13 columns]"
      ]
     },
     "execution_count": 31,
     "metadata": {},
     "output_type": "execute_result"
    }
   ],
   "source": [
    "# Index List of Non-Outliers\n",
    "nonOutlierList = Remove_Outlier_Indices(data['value_per_area'])\n",
    "\n",
    "# Non-Outlier Subset of the Given Dataset\n",
    "data_ = data[nonOutlierList]\n",
    "\n",
    "data_"
   ]
  },
  {
   "cell_type": "code",
   "execution_count": 32,
   "metadata": {},
   "outputs": [
    {
     "data": {
      "text/plain": [
       "([<matplotlib.axis.XTick at 0x1f15e06cf08>],\n",
       " <a list of 1 Text major ticklabel objects>)"
      ]
     },
     "execution_count": 32,
     "metadata": {},
     "output_type": "execute_result"
    },
    {
     "data": {
      "image/png": "[encoded data removed]",
      "text/plain": [
       "<Figure size 864x432 with 1 Axes>"
      ]
     },
     "metadata": {
      "needs_background": "light"
     },
     "output_type": "display_data"
    }
   ],
   "source": [
    "plt.figure(figsize=(12, 6))\n",
    "sns.distplot(data_['value_per_area'])\n",
    "plt.xticks(np.arange(data_['value_per_area'].min(), data_['value_per_area'].max(), step=10))"
   ]
  },
  {
   "cell_type": "code",
   "execution_count": 33,
   "metadata": {},
   "outputs": [
    {
     "data": {
      "image/png": "[encoded data removed]",
      "text/plain": [
       "<Figure size 864x1080 with 2 Axes>"
      ]
     },
     "metadata": {
      "needs_background": "light"
     },
     "output_type": "display_data"
    }
   ],
   "source": [
    "plt.figure(figsize=(12, 15))\n",
    "\n",
    "plt.subplot(2, 1, 1)\n",
    "plt.title('Com outliers')\n",
    "sns.boxplot(data['rent'], data['Bairro'])\n",
    "\n",
    "plt.subplot(2, 1, 2)\n",
    "plt.title('Sem outliers')\n",
    "sns.boxplot(data_['rent'], data_['Bairro'])\n",
    "\n",
    "plt.tight_layout(pad=5.0)\n",
    "plt.show()"
   ]
  },
  {
   "cell_type": "markdown",
   "metadata": {},
   "source": [
    "### Análise exploratória dos dados"
   ]
  },
  {
   "cell_type": "code",
   "execution_count": 34,
   "metadata": {},
   "outputs": [
    {
     "data": {
      "text/plain": [
       "([<matplotlib.axis.XTick at 0x1f15e37d708>,\n",
       "  <matplotlib.axis.XTick at 0x1f15f032288>,\n",
       "  <matplotlib.axis.XTick at 0x1f15f030808>,\n",
       "  <matplotlib.axis.XTick at 0x1f15ec57208>,\n",
       "  <matplotlib.axis.XTick at 0x1f15ec576c8>,\n",
       "  <matplotlib.axis.XTick at 0x1f15ec57f08>,\n",
       "  <matplotlib.axis.XTick at 0x1f15ec5c648>,\n",
       "  <matplotlib.axis.XTick at 0x1f15ec60148>,\n",
       "  <matplotlib.axis.XTick at 0x1f15ec60a48>,\n",
       "  <matplotlib.axis.XTick at 0x1f15ec5c508>,\n",
       "  <matplotlib.axis.XTick at 0x1f15ec5c048>,\n",
       "  <matplotlib.axis.XTick at 0x1f15ec65bc8>],\n",
       " <a list of 12 Text major ticklabel objects>)"
      ]
     },
     "execution_count": 34,
     "metadata": {},
     "output_type": "execute_result"
    },
    {
     "data": {
      "image/png": "[encoded data removed]",
      "text/plain": [
       "<Figure size 864x432 with 1 Axes>"
      ]
     },
     "metadata": {
      "needs_background": "light"
     },
     "output_type": "display_data"
    }
   ],
   "source": [
    "plt.figure(figsize=(12, 6))\n",
    "\n",
    "sns.boxplot(data_['rent']).set(xlabel='Valor do Aluguel (R$)')\n",
    "plt.xticks(np.arange(data_['rent'].min(), data_['rent'].max(), step=3000))"
   ]
  },
  {
   "cell_type": "code",
   "execution_count": 35,
   "metadata": {},
   "outputs": [
    {
     "data": {
      "text/plain": [
       "([<matplotlib.axis.XTick at 0x1f15ec9e088>,\n",
       "  <matplotlib.axis.XTick at 0x1f15ec9e048>,\n",
       "  <matplotlib.axis.XTick at 0x1f15ec9c508>],\n",
       " <a list of 3 Text major ticklabel objects>)"
      ]
     },
     "execution_count": 35,
     "metadata": {},
     "output_type": "execute_result"
    },
    {
     "data": {
      "image/png": "[encoded data removed]",
      "text/plain": [
       "<Figure size 864x432 with 2 Axes>"
      ]
     },
     "metadata": {
      "needs_background": "light"
     },
     "output_type": "display_data"
    }
   ],
   "source": [
    "plt.figure(figsize=(12, 6))\n",
    "\n",
    "plt.subplot(1, 2, 1)\n",
    "sns.barplot(x=data_['rooms'], y=data_['rent'])\n",
    "\n",
    "plt.subplot(1, 2, 2)\n",
    "sns.boxplot(x=data_['rooms'])\n",
    "plt.xticks(np.arange(data_['rooms'].min(), data_['rooms'].max(), step=1))"
   ]
  },
  {
   "cell_type": "code",
   "execution_count": 36,
   "metadata": {},
   "outputs": [
    {
     "data": {
      "text/plain": [
       "([<matplotlib.axis.XTick at 0x1f15ed74e08>,\n",
       "  <matplotlib.axis.XTick at 0x1f15ed74dc8>,\n",
       "  <matplotlib.axis.XTick at 0x1f15ed742c8>,\n",
       "  <matplotlib.axis.XTick at 0x1f15edb2e48>],\n",
       " <a list of 4 Text major ticklabel objects>)"
      ]
     },
     "execution_count": 36,
     "metadata": {},
     "output_type": "execute_result"
    },
    {
     "data": {
      "image/png": "[encoded data removed]",
      "text/plain": [
       "<Figure size 864x432 with 2 Axes>"
      ]
     },
     "metadata": {
      "needs_background": "light"
     },
     "output_type": "display_data"
    }
   ],
   "source": [
    "plt.figure(figsize=(12, 6))\n",
    "\n",
    "plt.subplot(1, 2, 1)\n",
    "sns.barplot(x=data_['bathroom'], y=data_['rent'])\n",
    "\n",
    "plt.subplot(1, 2, 2)\n",
    "sns.boxplot(x=data_['bathroom'])\n",
    "plt.xticks(np.arange(data_['bathroom'].min(), data_['bathroom'].max(), step=1))"
   ]
  },
  {
   "cell_type": "code",
   "execution_count": 37,
   "metadata": {},
   "outputs": [
    {
     "data": {
      "text/plain": [
       "([<matplotlib.axis.XTick at 0x1f15ee78f08>,\n",
       "  <matplotlib.axis.XTick at 0x1f15ee78ec8>,\n",
       "  <matplotlib.axis.XTick at 0x1f15eea3e88>],\n",
       " <a list of 3 Text major ticklabel objects>)"
      ]
     },
     "execution_count": 37,
     "metadata": {},
     "output_type": "execute_result"
    },
    {
     "data": {
      "image/png": "[encoded data removed]",
      "text/plain": [
       "<Figure size 864x432 with 2 Axes>"
      ]
     },
     "metadata": {
      "needs_background": "light"
     },
     "output_type": "display_data"
    }
   ],
   "source": [
    "plt.figure(figsize=(12, 6))\n",
    "\n",
    "plt.subplot(1, 2, 1)\n",
    "sns.barplot(x=data_['parking'], y=data_['rent'])\n",
    "\n",
    "plt.subplot(1, 2, 2)\n",
    "sns.boxplot(x=data_['parking'])\n",
    "plt.xticks(np.arange(data_['parking'].min(), data_['parking'].max(), step=1))"
   ]
  },
  {
   "cell_type": "code",
   "execution_count": 38,
   "metadata": {},
   "outputs": [
    {
     "data": {
      "text/plain": [
       "<matplotlib.axes._subplots.AxesSubplot at 0x1f15eeaa288>"
      ]
     },
     "execution_count": 38,
     "metadata": {},
     "output_type": "execute_result"
    },
    {
     "data": {
      "image/png": "[encoded data removed]",
      "text/plain": [
       "<Figure size 720x720 with 2 Axes>"
      ]
     },
     "metadata": {
      "needs_background": "light"
     },
     "output_type": "display_data"
    }
   ],
   "source": [
    "plt.figure(figsize=(10, 10))\n",
    "\n",
    "numdata_ = data_._get_numeric_data()\n",
    "var_num_corr = numdata_.corr()\n",
    "\n",
    "sns.heatmap(var_num_corr, vmin=-1, vmax=1, annot=True, linewidth=0.01, linecolor='black', cmap='RdBu_r')"
   ]
  },
  {
   "cell_type": "code",
   "execution_count": 39,
   "metadata": {},
   "outputs": [
    {
     "data": {
      "image/png": "[encoded data removed]",
      "text/plain": [
       "<Figure size 864x432 with 1 Axes>"
      ]
     },
     "metadata": {
      "needs_background": "light"
     },
     "output_type": "display_data"
    }
   ],
   "source": [
    "plt.figure(figsize=(12, 6))\n",
    "plt.scatter(data_['larea'],data_['lrent'], s=20, edgecolor=\"black\",c=\"darkorange\", label=\"area\")\n",
    "plt.xlabel(\"Área\")\n",
    "plt.ylabel(\"Preço do Aluguel (R$)\")\n",
    "plt.title(\"Área vs. Aluguel (R$)\")\n",
    "plt.legend()\n",
    "plt.show()"
   ]
  },
  {
   "cell_type": "code",
   "execution_count": 40,
   "metadata": {},
   "outputs": [
    {
     "data": {
      "text/plain": [
       "<matplotlib.axes._subplots.AxesSubplot at 0x1f15f6e37c8>"
      ]
     },
     "execution_count": 40,
     "metadata": {},
     "output_type": "execute_result"
    },
    {
     "data": {
      "image/png": "[encoded data removed]",
      "text/plain": [
       "<Figure size 864x720 with 1 Axes>"
      ]
     },
     "metadata": {
      "needs_background": "light"
     },
     "output_type": "display_data"
    }
   ],
   "source": [
    "plt.figure(figsize=(12, 10))\n",
    "\n",
    "sns.barplot(y=data_['Bairro'], x=data_['rent'])"
   ]
  },
  {
   "cell_type": "code",
   "execution_count": 41,
   "metadata": {},
   "outputs": [
    {
     "data": {
      "application/vnd.jupyter.widget-view+json": {
       "model_id": "383ecd44023347f5ba03cebcc361ef34",
       "version_major": 2,
       "version_minor": 0
      },
      "text/plain": [
       "Figure(layout=FigureLayout(height='420px'))"
      ]
     },
     "metadata": {},
     "output_type": "display_data"
    }
   ],
   "source": [
    "import gmaps \n",
    "\n",
    "gmaps.configure(api_key='SuaKeyAqui')\n",
    "\n",
    "fig = gmaps.figure()\n",
    "heatmap_layer = gmaps.heatmap_layer(\n",
    "  data[['lat','long']],\n",
    "  weights=data['rent'],\n",
    "  max_intensity = 6000,\n",
    "  point_radius=4.0\n",
    ")\n",
    "\n",
    "fig.add_layer(heatmap_layer)\n",
    "fig"
   ]
  },
  {
   "cell_type": "markdown",
   "metadata": {},
   "source": [
    "## Treinamento do Modelo"
   ]
  },
  {
   "cell_type": "code",
   "execution_count": 42,
   "metadata": {},
   "outputs": [],
   "source": [
    "from sklearn.pipeline import Pipeline\n",
    "from sklearn.preprocessing import StandardScaler, OrdinalEncoder\n",
    "from sklearn.compose import ColumnTransformer\n",
    "from sklearn.model_selection import train_test_split, RandomizedSearchCV\n",
    "from sklearn.metrics import mean_absolute_error, mean_squared_error, r2_score, accuracy_score\n",
    "\n",
    "# ML models\n",
    "from sklearn.ensemble import RandomForestRegressor\n",
    "from sklearn.tree import DecisionTreeRegressor\n",
    "from sklearn.linear_model import LinearRegression\n",
    "from sklearn.svm import SVR\n",
    "from xgboost import XGBRegressor"
   ]
  },
  {
   "cell_type": "code",
   "execution_count": 43,
   "metadata": {},
   "outputs": [],
   "source": [
    "catTransformer = Pipeline(steps=[\n",
    "    ('ordinal', OrdinalEncoder()\n",
    "    )])"
   ]
  },
  {
   "cell_type": "code",
   "execution_count": 44,
   "metadata": {},
   "outputs": [],
   "source": [
    "numTransformer = Pipeline(steps=[\n",
    "    ('scaler', StandardScaler())\n",
    "])"
   ]
  },
  {
   "cell_type": "code",
   "execution_count": 45,
   "metadata": {},
   "outputs": [
    {
     "data": {
      "text/html": [
       "<div>\n",
       "<style scoped>\n",
       "    .dataframe tbody tr th:only-of-type {\n",
       "        vertical-align: middle;\n",
       "    }\n",
       "\n",
       "    .dataframe tbody tr th {\n",
       "        vertical-align: top;\n",
       "    }\n",
       "\n",
       "    .dataframe thead th {\n",
       "        text-align: right;\n",
       "    }\n",
       "</style>\n",
       "<table border=\"1\" class=\"dataframe\">\n",
       "  <thead>\n",
       "    <tr style=\"text-align: right;\">\n",
       "      <th></th>\n",
       "      <th>larea</th>\n",
       "      <th>rooms</th>\n",
       "      <th>bathroom</th>\n",
       "      <th>parking</th>\n",
       "      <th>Bairro</th>\n",
       "    </tr>\n",
       "  </thead>\n",
       "  <tbody>\n",
       "    <tr>\n",
       "      <th>0</th>\n",
       "      <td>4.025352</td>\n",
       "      <td>1.0</td>\n",
       "      <td>1.0</td>\n",
       "      <td>1.0</td>\n",
       "      <td>Gonzaga</td>\n",
       "    </tr>\n",
       "    <tr>\n",
       "      <th>3</th>\n",
       "      <td>5.068904</td>\n",
       "      <td>3.0</td>\n",
       "      <td>2.0</td>\n",
       "      <td>3.0</td>\n",
       "      <td>Boqueirão</td>\n",
       "    </tr>\n",
       "    <tr>\n",
       "      <th>6</th>\n",
       "      <td>4.718499</td>\n",
       "      <td>2.0</td>\n",
       "      <td>4.0</td>\n",
       "      <td>2.0</td>\n",
       "      <td>Ponta da Praia</td>\n",
       "    </tr>\n",
       "    <tr>\n",
       "      <th>15</th>\n",
       "      <td>4.510860</td>\n",
       "      <td>2.0</td>\n",
       "      <td>2.0</td>\n",
       "      <td>2.0</td>\n",
       "      <td>Campo Grande</td>\n",
       "    </tr>\n",
       "    <tr>\n",
       "      <th>18</th>\n",
       "      <td>4.890349</td>\n",
       "      <td>3.0</td>\n",
       "      <td>3.0</td>\n",
       "      <td>3.0</td>\n",
       "      <td>Ponta da Praia</td>\n",
       "    </tr>\n",
       "  </tbody>\n",
       "</table>\n",
       "</div>"
      ],
      "text/plain": [
       "       larea  rooms  bathroom  parking          Bairro\n",
       "0   4.025352    1.0       1.0      1.0         Gonzaga\n",
       "3   5.068904    3.0       2.0      3.0       Boqueirão\n",
       "6   4.718499    2.0       4.0      2.0  Ponta da Praia\n",
       "15  4.510860    2.0       2.0      2.0    Campo Grande\n",
       "18  4.890349    3.0       3.0      3.0  Ponta da Praia"
      ]
     },
     "execution_count": 45,
     "metadata": {},
     "output_type": "execute_result"
    }
   ],
   "source": [
    "cols = ['larea','rooms','bathroom','parking','Bairro']\n",
    "\n",
    "X = data_[cols]\n",
    "X.head()"
   ]
  },
  {
   "cell_type": "code",
   "execution_count": 46,
   "metadata": {},
   "outputs": [
    {
     "data": {
      "text/plain": [
       "larea        float64\n",
       "rooms       category\n",
       "bathroom    category\n",
       "parking     category\n",
       "Bairro      category\n",
       "dtype: object"
      ]
     },
     "execution_count": 46,
     "metadata": {},
     "output_type": "execute_result"
    }
   ],
   "source": [
    "for col in X:\n",
    "    X = X.astype('category')\n",
    "X['larea'] = X['larea'].astype('float64')\n",
    "X.dtypes\n"
   ]
  },
  {
   "cell_type": "code",
   "execution_count": 47,
   "metadata": {},
   "outputs": [
    {
     "data": {
      "text/plain": [
       "0       7.280008\n",
       "3       9.047939\n",
       "6       8.318986\n",
       "15      7.775276\n",
       "18      8.556606\n",
       "          ...   \n",
       "8729    8.853808\n",
       "8730    7.601402\n",
       "8732    7.972811\n",
       "8734    7.516977\n",
       "8736    7.313887\n",
       "Name: lrent, Length: 3626, dtype: float64"
      ]
     },
     "execution_count": 47,
     "metadata": {},
     "output_type": "execute_result"
    }
   ],
   "source": [
    "y = data_['lrent']\n",
    "y"
   ]
  },
  {
   "cell_type": "code",
   "execution_count": 48,
   "metadata": {},
   "outputs": [
    {
     "data": {
      "text/plain": [
       "larea        float64\n",
       "rooms       category\n",
       "bathroom    category\n",
       "parking     category\n",
       "Bairro      category\n",
       "dtype: object"
      ]
     },
     "execution_count": 48,
     "metadata": {},
     "output_type": "execute_result"
    }
   ],
   "source": [
    "X.dtypes"
   ]
  },
  {
   "cell_type": "code",
   "execution_count": 49,
   "metadata": {},
   "outputs": [
    {
     "data": {
      "text/plain": [
       "Index(['rooms', 'bathroom', 'parking', 'Bairro'], dtype='object')"
      ]
     },
     "execution_count": 49,
     "metadata": {},
     "output_type": "execute_result"
    }
   ],
   "source": [
    "catFeatures = X.select_dtypes(include=['category']).columns\n",
    "catFeatures"
   ]
  },
  {
   "cell_type": "code",
   "execution_count": 50,
   "metadata": {},
   "outputs": [
    {
     "data": {
      "text/plain": [
       "Index(['larea'], dtype='object')"
      ]
     },
     "execution_count": 50,
     "metadata": {},
     "output_type": "execute_result"
    }
   ],
   "source": [
    "numFeatures = X.select_dtypes(include=['float64','int64']).columns\n",
    "numFeatures"
   ]
  },
  {
   "cell_type": "code",
   "execution_count": 51,
   "metadata": {},
   "outputs": [],
   "source": [
    "preprocessor = ColumnTransformer(\n",
    "    transformers=[\n",
    "        ('num', numTransformer, numFeatures),\n",
    "        ('categoric', catTransformer, catFeatures)\n",
    "    ])"
   ]
  },
  {
   "cell_type": "code",
   "execution_count": 52,
   "metadata": {},
   "outputs": [],
   "source": [
    "X_train, X_test, y_train, y_test = train_test_split(X, y, test_size=0.20, random_state=42)"
   ]
  },
  {
   "cell_type": "code",
   "execution_count": 53,
   "metadata": {},
   "outputs": [],
   "source": [
    "regressors = [\n",
    "    DecisionTreeRegressor(),\n",
    "    RandomForestRegressor(),\n",
    "    SVR(),\n",
    "    LinearRegression(),\n",
    "    XGBRegressor()\n",
    "]"
   ]
  },
  {
   "cell_type": "code",
   "execution_count": 54,
   "metadata": {},
   "outputs": [
    {
     "name": "stdout",
     "output_type": "stream",
     "text": [
      "DecisionTreeRegressor()\n",
      "MAE: 0.29850528737777143\n",
      "RMSE: 0.40012796056745026\n",
      "R2: 0.38277025446450286\n",
      "----------------------------------------\n",
      "RandomForestRegressor()\n",
      "MAE: 0.2610050000048902\n",
      "RMSE: 0.3373774130830057\n",
      "R2: 0.5611854148420632\n",
      "----------------------------------------\n",
      "SVR()\n",
      "MAE: 0.2536647718484366\n",
      "RMSE: 0.33088156844097344\n",
      "R2: 0.5779205598710817\n",
      "----------------------------------------\n",
      "LinearRegression()\n",
      "MAE: 0.2671357767893099\n",
      "RMSE: 0.3380395707643174\n",
      "R2: 0.5594612354702827\n",
      "----------------------------------------\n",
      "[23:04:41] WARNING: C:/Jenkins/workspace/xgboost-win64_release_0.90/src/objective/regression_obj.cu:152: reg:linear is now deprecated in favor of reg:squarederror.\n",
      "XGBRegressor()\n",
      "MAE: 0.2486815530299898\n",
      "RMSE: 0.31511897836731156\n",
      "R2: 0.6171768733731331\n",
      "----------------------------------------\n"
     ]
    }
   ],
   "source": [
    "np.random.seed(42)\n",
    "\n",
    "for regressor in regressors:\n",
    "    \n",
    "    estimator = Pipeline(steps=[\n",
    "        ('preprocessor', preprocessor),\n",
    "        ('regressor', regressor)\n",
    "    ])    \n",
    "    estimator.fit(X_train, y_train)\n",
    "    preds = estimator.predict(X_test)\n",
    "    \n",
    "    print(regressor)\n",
    "\n",
    "    print('MAE:', mean_absolute_error(y_test, preds))\n",
    "    print('RMSE:', np.sqrt(mean_squared_error(y_test, preds)))\n",
    "    print('R2:', r2_score(y_test, preds))\n",
    "    print('-' * 40)"
   ]
  },
  {
   "cell_type": "markdown",
   "metadata": {},
   "source": [
    "Comparando as métricas de cada modelo treinado, podemos concluir que o modelo XGBRegressor apresentou o melhor resultado, e por isso iremos utilizá-lo para fazer os cálculos de estimativa de aluguel no nosso projeto."
   ]
  },
  {
   "cell_type": "code",
   "execution_count": 55,
   "metadata": {},
   "outputs": [],
   "source": [
    "pipe = Pipeline(steps=[('preprocessor', preprocessor),                       \n",
    "                       ('model', XGBRegressor())                                              \n",
    "                      ])"
   ]
  },
  {
   "cell_type": "code",
   "execution_count": 56,
   "metadata": {},
   "outputs": [],
   "source": [
    "params = {\n",
    "        'model__learning_rate': np.arange(0.01, 0.1),\n",
    "        'model__n_estimators': np.arange(100, 1000, step=50),\n",
    "        'model__max_depth': np.arange(1, 20, step=2),\n",
    "        'model__subsample': [0.8, 0.9, 1],\n",
    "        'model__colsample_bytree': [0.8, 0.9, 1],\n",
    "        'model__gamma': [0, 1, 3, 5]\n",
    "         }"
   ]
  },
  {
   "cell_type": "code",
   "execution_count": 57,
   "metadata": {},
   "outputs": [
    {
     "name": "stdout",
     "output_type": "stream",
     "text": [
      "[23:06:44] WARNING: C:/Jenkins/workspace/xgboost-win64_release_0.90/src/objective/regression_obj.cu:152: reg:linear is now deprecated in favor of reg:squarederror.\n"
     ]
    },
    {
     "data": {
      "text/plain": [
       "RandomizedSearchCV(cv=20,\n",
       "                   estimator=Pipeline(steps=[('preprocessor',\n",
       "                                              ColumnTransformer(transformers=[('num',\n",
       "                                                                               Pipeline(steps=[('scaler',\n",
       "                                                                                                StandardScaler())]),\n",
       "                                                                               Index(['larea'], dtype='object')),\n",
       "                                                                              ('categoric',\n",
       "                                                                               Pipeline(steps=[('ordinal',\n",
       "                                                                                                OrdinalEncoder())]),\n",
       "                                                                               Index(['rooms', 'bathroom', 'parking', 'Bairro'], dtype='object'))])),\n",
       "                                             ('model', XGBRegressor())]),\n",
       "                   n_jobs=-1,\n",
       "                   param_distributions={'model__colsample_bytree': [0.8, 0.9,\n",
       "                                                                    1],\n",
       "                                        'model__gamma': [0, 1, 3, 5],\n",
       "                                        'model__learning_rate': array([0.01]),\n",
       "                                        'model__max_depth': array([ 1,  3,  5,  7,  9, 11, 13, 15, 17, 19]),\n",
       "                                        'model__n_estimators': array([100, 150, 200, 250, 300, 350, 400, 450, 500, 550, 600, 650, 700,\n",
       "       750, 800, 850, 900, 950]),\n",
       "                                        'model__subsample': [0.8, 0.9, 1]})"
      ]
     },
     "execution_count": 57,
     "metadata": {},
     "output_type": "execute_result"
    }
   ],
   "source": [
    "estimator = RandomizedSearchCV(pipe, cv=20, param_distributions=params, n_jobs=-1)\n",
    "estimator.fit(X_train,y_train)"
   ]
  },
  {
   "cell_type": "code",
   "execution_count": 58,
   "metadata": {},
   "outputs": [
    {
     "data": {
      "text/plain": [
       "{'model__subsample': 1,\n",
       " 'model__n_estimators': 950,\n",
       " 'model__max_depth': 5,\n",
       " 'model__learning_rate': 0.01,\n",
       " 'model__gamma': 0,\n",
       " 'model__colsample_bytree': 0.8}"
      ]
     },
     "execution_count": 58,
     "metadata": {},
     "output_type": "execute_result"
    }
   ],
   "source": [
    "estimator.best_params_"
   ]
  },
  {
   "cell_type": "code",
   "execution_count": 59,
   "metadata": {},
   "outputs": [],
   "source": [
    "estimator = XGBRegressor(colsample_bytree=0.8,\n",
    "                           gamma=0, \n",
    "                           learning_rate=0.01, \n",
    "                           max_depth=5, \n",
    "                           n_estimators=950, \n",
    "                           subsample=1)"
   ]
  },
  {
   "cell_type": "code",
   "execution_count": 60,
   "metadata": {},
   "outputs": [],
   "source": [
    "model = Pipeline(steps=[\n",
    "    ('preprocessor', preprocessor),    \n",
    "    ('model', XGBRegressor())    \n",
    "])"
   ]
  },
  {
   "cell_type": "code",
   "execution_count": 61,
   "metadata": {},
   "outputs": [
    {
     "name": "stdout",
     "output_type": "stream",
     "text": [
      "[23:06:46] WARNING: C:/Jenkins/workspace/xgboost-win64_release_0.90/src/objective/regression_obj.cu:152: reg:linear is now deprecated in favor of reg:squarederror.\n"
     ]
    },
    {
     "data": {
      "text/plain": [
       "Pipeline(steps=[('preprocessor',\n",
       "                 ColumnTransformer(transformers=[('num',\n",
       "                                                  Pipeline(steps=[('scaler',\n",
       "                                                                   StandardScaler())]),\n",
       "                                                  Index(['larea'], dtype='object')),\n",
       "                                                 ('categoric',\n",
       "                                                  Pipeline(steps=[('ordinal',\n",
       "                                                                   OrdinalEncoder())]),\n",
       "                                                  Index(['rooms', 'bathroom', 'parking', 'Bairro'], dtype='object'))])),\n",
       "                ('model', XGBRegressor())])"
      ]
     },
     "execution_count": 61,
     "metadata": {},
     "output_type": "execute_result"
    }
   ],
   "source": [
    "model.fit(X_train, y_train)"
   ]
  },
  {
   "cell_type": "code",
   "execution_count": 62,
   "metadata": {},
   "outputs": [],
   "source": [
    "preds = model.predict(X_test)"
   ]
  },
  {
   "cell_type": "code",
   "execution_count": 63,
   "metadata": {},
   "outputs": [
    {
     "name": "stdout",
     "output_type": "stream",
     "text": [
      "MAE: 0.2486815530299898\n",
      "RMSE: 0.31511897836731156\n",
      "R2: 0.6171768733731331\n"
     ]
    }
   ],
   "source": [
    "print('MAE:', mean_absolute_error(y_test, preds))\n",
    "print('RMSE:', np.sqrt(mean_squared_error(y_test, preds)))\n",
    "print('R2:', r2_score(y_test, preds))"
   ]
  },
  {
   "cell_type": "markdown",
   "metadata": {},
   "source": [
    "### Comparação entre as distribuições do resultado previsto e o resultado real"
   ]
  },
  {
   "cell_type": "code",
   "execution_count": 64,
   "metadata": {},
   "outputs": [
    {
     "data": {
      "image/png": "[encoded data removed]",
      "text/plain": [
       "<Figure size 864x576 with 1 Axes>"
      ]
     },
     "metadata": {
      "needs_background": "light"
     },
     "output_type": "display_data"
    }
   ],
   "source": [
    "plt.figure(figsize=(12, 8))\n",
    "\n",
    "sns.distplot(y_test, hist=False, color='b', label ='Actual')\n",
    "sns.distplot(preds, hist=False, color='r', label = 'Predicted')\n",
    "\n",
    "plt.show()"
   ]
  },
  {
   "cell_type": "markdown",
   "metadata": {},
   "source": [
    "### Salvando o modelo em um arquivo (para ser utilizado no deploy do Projeto)"
   ]
  },
  {
   "cell_type": "code",
   "execution_count": 65,
   "metadata": {},
   "outputs": [
    {
     "data": {
      "text/plain": [
       "['model.pkl']"
      ]
     },
     "execution_count": 65,
     "metadata": {},
     "output_type": "execute_result"
    }
   ],
   "source": [
    "import joblib \n",
    "\n",
    "joblib.dump(model, 'model.pkl')  "
   ]
  },
  {
   "cell_type": "code",
   "execution_count": null,
   "metadata": {},
   "outputs": [],
   "source": []
  }
 ],
 "metadata": {
  "kernelspec": {
   "display_name": "Python 3",
   "language": "python",
   "name": "python3"
  },
  "language_info": {
   "codemirror_mode": {
    "name": "ipython",
    "version": 3
   },
   "file_extension": ".py",
   "mimetype": "text/x-python",
   "name": "python",
   "nbconvert_exporter": "python",
   "pygments_lexer": "ipython3",
   "version": "3.7.4"
  }
 },
 "nbformat": 4,
 "nbformat_minor": 2
}
